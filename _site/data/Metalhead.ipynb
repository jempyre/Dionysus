{
 "cells": [
  {
   "cell_type": "markdown",
   "metadata": {},
   "source": [
    "# Metalhead {#metalhead}"
   ]
  },
  {
   "cell_type": "markdown",
   "metadata": {},
   "source": [
    "```yaml\n",
    "\n",
    "title: Metalhead\n",
    "author: Jonah E Havel\n",
    "github-user: jempyre\n",
    "tags: [machine-learning, ml, vision, classifier]\n",
    "categories: devel ml vision\n",
    "reqs: Metalhead FileIO\n",
    "```\n",
    "\n"
   ]
  },
  {
   "cell_type": "code",
   "execution_count": 5,
   "metadata": {
    "ExecuteTime": {
     "end_time": "2018-08-18T14:08:50.409000-05:00",
     "start_time": "2018-08-18T19:08:50.397Z"
    },
    "code_folding": []
   },
   "outputs": [
    {
     "ename": "LoadError",
     "evalue": "\u001b[91mUndefVarError: reqs not defined\u001b[39m",
     "output_type": "error",
     "traceback": [
      "\u001b[91mUndefVarError: reqs not defined\u001b[39m",
      ""
     ]
    }
   ],
   "source": [
    "function nbinit(reqs, test=true)\n",
    "    for req in reqs\n",
    "        @async if !isPackage(\"$(req)\")\n",
    "            Pkg.add(\"$req\")\n",
    "        end\n",
    "    end\n",
    "    Pkg.update()\n",
    "    if(test)\n",
    "        Pkg.test()\n",
    "    end\n",
    "end\n",
    "nbinit(reqs)"
   ]
  },
  {
   "cell_type": "code",
   "execution_count": 9,
   "metadata": {
    "ExecuteTime": {
     "end_time": "2018-08-18T14:13:37.772000-05:00",
     "start_time": "2018-08-18T19:13:37.766Z"
    }
   },
   "outputs": [
    {
     "ename": "LoadError",
     "evalue": "\u001b[91mArgumentError: Module metalhead not found in current path.\nRun `Pkg.add(\"metalhead\")` to install the metalhead package.\u001b[39m",
     "output_type": "error",
     "traceback": [
      "\u001b[91mArgumentError: Module metalhead not found in current path.\nRun `Pkg.add(\"metalhead\")` to install the metalhead package.\u001b[39m",
      "",
      "Stacktrace:",
      " [1] \u001b[1m_require\u001b[22m\u001b[22m\u001b[1m(\u001b[22m\u001b[22m::Symbol\u001b[1m)\u001b[22m\u001b[22m at \u001b[1m./loading.jl:435\u001b[22m\u001b[22m",
      " [2] \u001b[1mrequire\u001b[22m\u001b[22m\u001b[1m(\u001b[22m\u001b[22m::Symbol\u001b[1m)\u001b[22m\u001b[22m at \u001b[1m./loading.jl:405\u001b[22m\u001b[22m"
     ]
    }
   ],
   "source": [
    "using metalhead"
   ]
  },
  {
   "cell_type": "code",
   "execution_count": 4,
   "metadata": {
    "ExecuteTime": {
     "end_time": "2018-08-18T12:05:13.717000-05:00",
     "start_time": "2018-08-18T17:05:13.712Z"
    },
    "scrolled": true
   },
   "outputs": [
    {
     "ename": "LoadError",
     "evalue": "\u001b[91mArgumentError: Module metalhead not found in current path.\nRun `Pkg.add(\"metalhead\")` to install the metalhead package.\u001b[39m",
     "output_type": "error",
     "traceback": [
      "\u001b[91mArgumentError: Module metalhead not found in current path.\nRun `Pkg.add(\"metalhead\")` to install the metalhead package.\u001b[39m",
      "",
      "Stacktrace:",
      " [1] \u001b[1m_require\u001b[22m\u001b[22m\u001b[1m(\u001b[22m\u001b[22m::Symbol\u001b[1m)\u001b[22m\u001b[22m at \u001b[1m./loading.jl:435\u001b[22m\u001b[22m",
      " [2] \u001b[1mrequire\u001b[22m\u001b[22m\u001b[1m(\u001b[22m\u001b[22m::Symbol\u001b[1m)\u001b[22m\u001b[22m at \u001b[1m./loading.jl:405\u001b[22m\u001b[22m"
     ]
    }
   ],
   "source": [
    "using metalhead: classify\n",
    "TEST_IMG = \"home/jh/Pictures/julia.jpg\""
   ]
  },
  {
   "cell_type": "code",
   "execution_count": 8,
   "metadata": {
    "ExecuteTime": {
     "end_time": "2018-08-18T14:13:21.726000-05:00",
     "start_time": "2018-08-18T19:13:21.709Z"
    }
   },
   "outputs": [
    {
     "data": {
      "text/plain": [
       "\"/home/jh/.julia/v0.6\""
      ]
     },
     "execution_count": 8,
     "metadata": {},
     "output_type": "execute_result"
    }
   ],
   "source": [
    "cd(Pkg.dir())\n",
    "pwd()"
   ]
  },
  {
   "cell_type": "code",
   "execution_count": 3,
   "metadata": {
    "ExecuteTime": {
     "end_time": "2018-08-18T11:38:45.052000-05:00",
     "start_time": "2018-08-18T16:38:44.044Z"
    }
   },
   "outputs": [
    {
     "data": {
      "text/plain": [
       "\"/home/jh/julia-9d11f62bcb/bin\""
      ]
     },
     "execution_count": 3,
     "metadata": {},
     "output_type": "execute_result"
    }
   ],
   "source": [
    "cd(\"IJulia\")\n",
    "JULIA_HOME"
   ]
  },
  {
   "cell_type": "code",
   "execution_count": null,
   "metadata": {},
   "outputs": [],
   "source": [
    "vgg = VGG19()\n",
    "img = load(\"$TEST_IMG\")"
   ]
  }
 ],
 "metadata": {
  "kernelspec": {
   "display_name": "Julia 0.6.4",
   "language": "julia",
   "name": "julia-0.6"
  },
  "language_info": {
   "file_extension": ".jl",
   "mimetype": "application/julia",
   "name": "julia",
   "version": "0.6.4"
  }
 },
 "nbformat": 4,
 "nbformat_minor": 2
}
